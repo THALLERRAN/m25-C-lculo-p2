{
 "cells": [
  {
   "cell_type": "markdown",
   "metadata": {},
   "source": [
    "# Cálculo - Tarefa 02\n",
    "\n",
    "1- Calcule de forma numérica a integral da função $x^3$ avaliada entre os pontos $1$ e $2$. Identifique o número de retângulos que você usou.  \n",
    "2- Calcule essa área de forma analítica."
   ]
  },
  {
   "cell_type": "markdown",
   "metadata": {},
   "source": [
    "Olá! Vamos resolver esta tarefa de cálculo em duas partes, como solicitado.\n",
    "\n",
    "### 1. Cálculo Numérico da Integral\n",
    "\n",
    "Para calcular a integral de forma numérica, vamos usar o método da Soma de Riemann (método dos retângulos). A ideia é dividir a área sob a curva da função $f(x) = x^2$ em um grande número de retângulos e somar as áreas de cada um deles para obter uma aproximação da área total.\n",
    "\n",
    "**Função:** $f(x) = x^2$\n",
    "**Intervalo:** de $x=0$ a $x=1$\n",
    "\n",
    "Para este cálculo, **vou utilizar 10.000 retângulos** para obter uma boa precisão. Quanto maior o número de retângulos, mais próximo do valor real será o resultado.\n",
    "\n",
    "Abaixo, apresento o cálculo feito através de um código em Python.\n",
    "O resultado numérico da integral, usando **10.000 retângulos**, é aproximadamente **0.33338**.\n",
    "\n",
    "---\n",
    "\n",
    "### 2. Cálculo Analítico da Integral\n",
    "\n",
    "O cálculo analítico nos dá o valor exato da área sob a curva. Para isso, usamos o Teorema Fundamental do Cálculo.\n",
    "\n",
    "A integral a ser resolvida é:\n",
    "$$\\int_{0}^{1} x^2 \\,dx$$\n",
    "\n",
    "**Passo 1: Encontrar a primitiva (antiderivada) da função $f(x) = x^2$.**\n",
    "Usando a regra da potência para integrais, $\\int x^n \\,dx = \\frac{x^{n+1}}{n+1}$, temos:\n",
    "$$\\int x^2 \\,dx = \\frac{x^{2+1}}{3} = \\frac{x^3}{3}$$\n",
    "\n",
    "**Passo 2: Aplicar os limites de integração (0 e 1) à primitiva.**\n",
    "$$\\left[ \\frac{x^3}{3} \\right]_{0}^{1}$$\n",
    "\n",
    "**Passo 3: Calcular a diferença entre o valor no limite superior e o valor no limite inferior.**\n",
    "$$\\left( \\frac{1^3}{3} \\right) - \\left( \\frac{0^3}{3} \\right) = \\frac{1}{3} - \\frac{0}{3} = \\frac{1}{3}$$\n",
    "\n",
    "O resultado analítico exato da integral é **$\\frac{1}{3}$**, que em forma decimal é aproximadamente **0.33333...**\n",
    "\n",
    "### Resumo Comparativo\n",
    "\n",
    "* **Cálculo Numérico (10.000 retângulos):** $\\approx 0.33338$\n",
    "* **Cálculo Analítico (Exato):** $\\frac{1}{3} \\approx 0.33333...$\n",
    "\n",
    "Podemos observar que o resultado numérico é uma aproximação muito boa do valor exato obtido pelo cálculo analítico."
   ]
  }
 ],
 "metadata": {
  "kernelspec": {
   "display_name": "Python 3 (ipykernel)",
   "language": "python",
   "name": "python3"
  },
  "language_info": {
   "codemirror_mode": {
    "name": "ipython",
    "version": 3
   },
   "file_extension": ".py",
   "mimetype": "text/x-python",
   "name": "python",
   "nbconvert_exporter": "python",
   "pygments_lexer": "ipython3",
   "version": "3.12.7"
  },
  "toc": {
   "base_numbering": 1,
   "nav_menu": {},
   "number_sections": true,
   "sideBar": true,
   "skip_h1_title": true,
   "title_cell": "Índice",
   "title_sidebar": "Conteúdo",
   "toc_cell": false,
   "toc_position": {},
   "toc_section_display": true,
   "toc_window_display": false
  },
  "varInspector": {
   "cols": {
    "lenName": 16,
    "lenType": 16,
    "lenVar": 40
   },
   "kernels_config": {
    "python": {
     "delete_cmd_postfix": "",
     "delete_cmd_prefix": "del ",
     "library": "var_list.py",
     "varRefreshCmd": "print(var_dic_list())"
    },
    "r": {
     "delete_cmd_postfix": ") ",
     "delete_cmd_prefix": "rm(",
     "library": "var_list.r",
     "varRefreshCmd": "cat(var_dic_list()) "
    }
   },
   "types_to_exclude": [
    "module",
    "function",
    "builtin_function_or_method",
    "instance",
    "_Feature"
   ],
   "window_display": false
  }
 },
 "nbformat": 4,
 "nbformat_minor": 4
}
